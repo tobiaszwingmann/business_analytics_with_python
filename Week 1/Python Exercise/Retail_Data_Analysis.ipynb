{
  "nbformat": 4,
  "nbformat_minor": 0,
  "metadata": {
    "colab": {
      "provenance": []
    },
    "kernelspec": {
      "name": "python3",
      "display_name": "Python 3"
    },
    "language_info": {
      "name": "python"
    }
  },
  "cells": [
    {
      "cell_type": "markdown",
      "source": [
        "# Retail Data Exercise\n",
        "\n",
        "## Goal:\n",
        "Compare revenue  of Wholesale (B2B) vs. Non-Wholesale (B2C) Orders\n",
        "\n",
        "## Tasks:\n",
        "- Perform an Exploratory Data Analysis\n",
        "- Fix Errors in data\n",
        "- Calculate revenue\n",
        "- Find a criteria to flag wholesale orders\n",
        "- Compare B2B to B2C orders"
      ],
      "metadata": {
        "id": "NAqnc8OBHawP"
      }
    },
    {
      "cell_type": "markdown",
      "source": [
        "## Setup"
      ],
      "metadata": {
        "id": "dtpRqDOYHmpb"
      }
    },
    {
      "cell_type": "code",
      "execution_count": null,
      "metadata": {
        "id": "BK2uO23-HTHT"
      },
      "outputs": [],
      "source": [
        "import pandas as pd"
      ]
    },
    {
      "cell_type": "markdown",
      "source": [
        "## Exploratory Data Analysis"
      ],
      "metadata": {
        "id": "IjWn5WMiH3kR"
      }
    },
    {
      "cell_type": "code",
      "source": [
        "df = pd.read_excel(\"retail_data_s.xlsx\", sheet_name = \"Data\")"
      ],
      "metadata": {
        "id": "STjPHoyHH_-S"
      },
      "execution_count": null,
      "outputs": []
    },
    {
      "cell_type": "code",
      "source": [
        "df"
      ],
      "metadata": {
        "id": "_yMq2LZPIIBt"
      },
      "execution_count": null,
      "outputs": []
    },
    {
      "cell_type": "markdown",
      "source": [
        "Note: \n",
        "\n",
        "* A Customer ID can have multiple InvoiceNo and an InvoiceNo can have multiple rows (orders)\n",
        "* ID column is already there"
      ],
      "metadata": {
        "id": "B-nxJLFVTtAB"
      }
    },
    {
      "cell_type": "code",
      "source": [
        "df.describe()"
      ],
      "metadata": {
        "id": "gxD02i2KI1IN"
      },
      "execution_count": null,
      "outputs": []
    },
    {
      "cell_type": "code",
      "source": [
        "df.sort_values(\"Quantity\", ascending = False).head(20)"
      ],
      "metadata": {
        "id": "NCYR3_QNJxTV"
      },
      "execution_count": null,
      "outputs": []
    },
    {
      "cell_type": "markdown",
      "source": [
        "## Clean Data"
      ],
      "metadata": {
        "id": "awB7GeAeJpUI"
      }
    },
    {
      "cell_type": "markdown",
      "source": [
        "Inspect orders with \"M\" Stock code"
      ],
      "metadata": {
        "id": "aiQra_QvUbpp"
      }
    },
    {
      "cell_type": "code",
      "source": [
        "df.query(\"StockCode != 'M'\")"
      ],
      "metadata": {
        "id": "U14ylK22UbP5"
      },
      "execution_count": null,
      "outputs": []
    },
    {
      "cell_type": "markdown",
      "source": [
        "Remove orders with \"M\" Stock code"
      ],
      "metadata": {
        "id": "uFT5UFj_JtVs"
      }
    },
    {
      "cell_type": "code",
      "source": [
        "df_clean = df.query(\"StockCode != 'M'\")"
      ],
      "metadata": {
        "id": "p7qlTK2-J_S7"
      },
      "execution_count": null,
      "outputs": []
    },
    {
      "cell_type": "markdown",
      "source": [
        "Remove free products"
      ],
      "metadata": {
        "id": "Chi0SqtzKK90"
      }
    },
    {
      "cell_type": "code",
      "source": [
        "df_clean = df_clean.query(\"UnitPrice > 0\")"
      ],
      "metadata": {
        "id": "0EJj2yScKKrD"
      },
      "execution_count": null,
      "outputs": []
    },
    {
      "cell_type": "markdown",
      "source": [
        "Descriptive statistics"
      ],
      "metadata": {
        "id": "QFdifa10KTTb"
      }
    },
    {
      "cell_type": "code",
      "source": [
        "df_clean.describe()"
      ],
      "metadata": {
        "id": "mTcdPmyhKUrM"
      },
      "execution_count": null,
      "outputs": []
    },
    {
      "cell_type": "markdown",
      "source": [
        "### Calculate Revenue"
      ],
      "metadata": {
        "id": "KPjewQaXKmD9"
      }
    },
    {
      "cell_type": "code",
      "source": [
        "df_clean['Revenue'] = df_clean['Quantity'] * df_clean['UnitPrice']"
      ],
      "metadata": {
        "id": "5M1U8TbhKnVd"
      },
      "execution_count": null,
      "outputs": []
    },
    {
      "cell_type": "code",
      "source": [
        "df_clean"
      ],
      "metadata": {
        "id": "ww8NSxh1K2tF"
      },
      "execution_count": null,
      "outputs": []
    },
    {
      "cell_type": "markdown",
      "source": [
        "### Find a criteria to flag wholesale orders"
      ],
      "metadata": {
        "id": "cNR4Y-8rK9Ra"
      }
    },
    {
      "cell_type": "markdown",
      "source": [
        "Approach: Flag every order with more than 3 * STD of Quantity as Wholesale order"
      ],
      "metadata": {
        "id": "I5rchhr0K_-E"
      }
    },
    {
      "cell_type": "code",
      "source": [
        "def flag_wholesale(quantity):\n",
        "  quantity_avg = 12.3\n",
        "  quantity_std = 39.36\n",
        "\n",
        "  if quantity >= (quantity_avg + 3 * quantity_std):\n",
        "    return \"B2B\"\n",
        "  else:\n",
        "    return \"B2C\""
      ],
      "metadata": {
        "id": "ywsUOycnLQ2T"
      },
      "execution_count": null,
      "outputs": []
    },
    {
      "cell_type": "code",
      "source": [
        "flag_wholesale(300)"
      ],
      "metadata": {
        "id": "1ZSFuKR3WC2O"
      },
      "execution_count": null,
      "outputs": []
    },
    {
      "cell_type": "code",
      "source": [
        "df_clean['Quantity'].map(flag_wholesale)"
      ],
      "metadata": {
        "id": "HgVR1O_CL-Qo"
      },
      "execution_count": null,
      "outputs": []
    },
    {
      "cell_type": "code",
      "source": [
        "df_clean['Segment'] = df_clean['Quantity'].map(flag_wholesale)"
      ],
      "metadata": {
        "id": "KZruQWlqMHQZ"
      },
      "execution_count": null,
      "outputs": []
    },
    {
      "cell_type": "code",
      "source": [
        "df_clean"
      ],
      "metadata": {
        "id": "DfArme6zMM_H"
      },
      "execution_count": null,
      "outputs": []
    },
    {
      "cell_type": "markdown",
      "source": [
        "### Compare B2B to B2C orders"
      ],
      "metadata": {
        "id": "axVS61HsMQQe"
      }
    },
    {
      "cell_type": "code",
      "source": [
        "pd.pivot_table(df_clean, index = ['Segment'], values = ['Revenue'], aggfunc = ['sum']  )"
      ],
      "metadata": {
        "id": "IXq4wOM_NXfK"
      },
      "execution_count": null,
      "outputs": []
    },
    {
      "cell_type": "code",
      "source": [
        "pd\n",
        ".pivot_table(df_clean, index = ['Segment'], values = ['Revenue'], aggfunc = 'sum' )\n",
        ".plot\n",
        ".bar();"
      ],
      "metadata": {
        "id": "pcXg72KgNLVC"
      },
      "execution_count": null,
      "outputs": []
    }
  ]
}